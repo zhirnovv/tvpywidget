{
 "cells": [
  {
   "cell_type": "markdown",
   "metadata": {},
   "source": [
    "# Introduction"
   ]
  },
  {
   "cell_type": "code",
   "execution_count": 2,
   "metadata": {},
   "outputs": [
    {
     "name": "stdout",
     "output_type": "stream",
     "text": [
      "/Users/vasya/Developer/ed/vpython/tvpywidget/tvpywidget\n",
      "../vendor/glow/glow.min.js\n",
      "looking for free port\n",
      "starting tornado http server on port 58529\n",
      "started thread with socket handler\n",
      "INIT INIT INIT\n",
      "init base object\n",
      "registered new object in scene\n",
      "init base object\n",
      "registered new object in scene\n",
      "init base object\n",
      "registered new object in scene\n",
      "init base object\n",
      "registered new object in scene\n",
      "spooling up event loop for asyncio\n",
      "/Users/vasya/Developer/ed/vpython/tvpywidget/tvpywidget\n",
      "../vendor/glow/glow.min.js\n",
      "running glowscript version 3.2\n"
     ]
    }
   ],
   "source": [
    "from tvpywidget import ExampleWidget, vpython"
   ]
  },
  {
   "cell_type": "code",
   "execution_count": 3,
   "metadata": {},
   "outputs": [
    {
     "name": "stdout",
     "output_type": "stream",
     "text": [
      "initializing glow widget with ws port 58529 and uri /ws\n",
      "trigger <class 'tvpywidget.vpython.baseObj'>\n",
      "sending message from GlowWidget {'cmds': [{'cmd': 'canvas', 'idx': 0}, {'lights': 'empty_list', 'idx': 0}, {'cmd': 'distant_light', 'idx': 2, 'direction': [0.22, 0.44, 0.88], 'color': [0.8, 0.8, 0.8], 'canvas': 0}, {'cmd': 'distant_light', 'idx': 3, 'direction': [-0.88, -0.22, -0.44], 'color': [0.3, 0.3, 0.3], 'canvas': 0}]}\n",
      "{'name': 'cmd', 'old': None, 'new': {'cmds': [{'cmd': 'canvas', 'idx': 0}, {'lights': 'empty_list', 'idx': 0}, {'cmd': 'distant_light', 'idx': 2, 'direction': [0.22, 0.44, 0.88], 'color': [0.8, 0.8, 0.8], 'canvas': 0}, {'cmd': 'distant_light', 'idx': 3, 'direction': [-0.88, -0.22, -0.44], 'color': [0.3, 0.3, 0.3], 'canvas': 0}]}, 'owner': ExampleWidget(cmd={'cmds': [{'cmd': 'canvas', 'idx': 0}, {'lights': 'empty_list', 'idx': 0}, {'cmd': 'distant_light', 'idx': 2, 'direction': [0.22, 0.44, 0.88], 'color': [0.8, 0.8, 0.8], 'canvas': 0}, {'cmd': 'distant_light', 'idx': 3, 'direction': [-0.88, -0.22, -0.44], 'color': [0.3, 0.3, 0.3], 'canvas': 0}]}), 'type': 'change'}\n",
      "INIT INIT INIT\n",
      "init base object\n",
      "registered new object in scene\n",
      "init base object\n",
      "registered new object in scene\n",
      "init base object\n",
      "registered new object in scene\n",
      "init base object\n",
      "registered new object in scene\n",
      "init base object\n",
      "registered new object in scene\n"
     ]
    },
    {
     "data": {
      "application/vnd.jupyter.widget-view+json": {
       "model_id": "c75d6252ca694bc9b0118c1083f83d24",
       "version_major": 2,
       "version_minor": 0
      },
      "text/plain": [
       "ExampleWidget(cmd={'cmds': [{'cmd': 'canvas', 'idx': 0}, {'lights': 'empty_list', 'idx': 0}, {'cmd': 'distant_…"
      ]
     },
     "execution_count": 3,
     "metadata": {},
     "output_type": "execute_result"
    },
    {
     "name": "stdout",
     "output_type": "stream",
     "text": [
      "opening WS connection\n",
      "{'content': {'data': [{'event': 'update_canvas', 'trigger': 1}]}}\n",
      "trigger <class 'tvpywidget.vpython.baseObj'>\n",
      "sending message from GlowWidget {'cmds': [{'cmd': 'canvas', 'idx': 4}, {'lights': 'empty_list', 'idx': 4}, {'cmd': 'distant_light', 'idx': 6, 'direction': [0.22, 0.44, 0.88], 'color': [0.8, 0.8, 0.8], 'canvas': 4}, {'cmd': 'distant_light', 'idx': 7, 'direction': [-0.88, -0.22, -0.44], 'color': [0.3, 0.3, 0.3], 'canvas': 4}, {'cmd': 'button', 'idx': 8, 'canvas': 4, 'location': [4, 1], 'text': 'Run'}]}\n",
      "{'name': 'cmd', 'old': {'cmds': [{'cmd': 'canvas', 'idx': 0}, {'lights': 'empty_list', 'idx': 0}, {'cmd': 'distant_light', 'idx': 2, 'direction': [0.22, 0.44, 0.88], 'color': [0.8, 0.8, 0.8], 'canvas': 0}, {'cmd': 'distant_light', 'idx': 3, 'direction': [-0.88, -0.22, -0.44], 'color': [0.3, 0.3, 0.3], 'canvas': 0}]}, 'new': {'cmds': [{'cmd': 'canvas', 'idx': 4}, {'lights': 'empty_list', 'idx': 4}, {'cmd': 'distant_light', 'idx': 6, 'direction': [0.22, 0.44, 0.88], 'color': [0.8, 0.8, 0.8], 'canvas': 4}, {'cmd': 'distant_light', 'idx': 7, 'direction': [-0.88, -0.22, -0.44], 'color': [0.3, 0.3, 0.3], 'canvas': 4}, {'cmd': 'button', 'idx': 8, 'canvas': 4, 'location': [4, 1], 'text': 'Run'}]}, 'owner': ExampleWidget(cmd={'cmds': [{'cmd': 'canvas', 'idx': 4}, {'lights': 'empty_list', 'idx': 4}, {'cmd': 'distant_light', 'idx': 6, 'direction': [0.22, 0.44, 0.88], 'color': [0.8, 0.8, 0.8], 'canvas': 4}, {'cmd': 'distant_light', 'idx': 7, 'direction': [-0.88, -0.22, -0.44], 'color': [0.3, 0.3, 0.3], 'canvas': 4}, {'cmd': 'button', 'idx': 8, 'canvas': 4, 'location': [4, 1], 'text': 'Run'}]}), 'type': 'change'}\n",
      "{'content': {'data': [{'event': 'update_canvas', 'trigger': 1}]}}\n",
      "trigger <class 'tvpywidget.vpython.baseObj'>\n",
      "sending message from GlowWidget trigger\n",
      "{'name': 'cmd', 'old': {'cmds': [{'cmd': 'canvas', 'idx': 4}, {'lights': 'empty_list', 'idx': 4}, {'cmd': 'distant_light', 'idx': 6, 'direction': [0.22, 0.44, 0.88], 'color': [0.8, 0.8, 0.8], 'canvas': 4}, {'cmd': 'distant_light', 'idx': 7, 'direction': [-0.88, -0.22, -0.44], 'color': [0.3, 0.3, 0.3], 'canvas': 4}, {'cmd': 'button', 'idx': 8, 'canvas': 4, 'location': [4, 1], 'text': 'Run'}]}, 'new': 'trigger', 'owner': ExampleWidget(cmd='trigger'), 'type': 'change'}\n",
      "{'content': {'data': [{'event': 'update_canvas', 'trigger': 1}]}}\n",
      "trigger <class 'tvpywidget.vpython.baseObj'>\n",
      "sending message from GlowWidget trigger\n"
     ]
    }
   ],
   "source": [
    "w = ExampleWidget()\n",
    "scene = vpython.canvas()\n",
    "def run():\n",
    "    print(\"bind\")\n",
    "vpython.button(text=\"Run\", pos=scene.title_anchor, bind=run)\n",
    "vpython.sphere()\n",
    "w"
   ]
  }
 ],
 "metadata": {
  "kernelspec": {
   "display_name": "Python 3 (ipykernel)",
   "language": "python",
   "name": "python3"
  },
  "language_info": {
   "codemirror_mode": {
    "name": "ipython",
    "version": 3
   },
   "file_extension": ".py",
   "mimetype": "text/x-python",
   "name": "python",
   "nbconvert_exporter": "python",
   "pygments_lexer": "ipython3",
   "version": "3.10.13"
  }
 },
 "nbformat": 4,
 "nbformat_minor": 4
}
